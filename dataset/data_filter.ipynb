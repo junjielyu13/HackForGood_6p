{
 "cells": [
  {
   "cell_type": "code",
   "execution_count": 12,
   "metadata": {},
   "outputs": [],
   "source": [
    "import os\n",
    "import shutil"
   ]
  },
  {
   "cell_type": "code",
   "execution_count": 23,
   "metadata": {},
   "outputs": [
    {
     "name": "stdout",
     "output_type": "stream",
     "text": [
      "D:\\HackForGood\\HackForGood_6p\\images\\row_data\\Garbage classification\\test\\test1\\cardboard1.jpg D:\\HackForGood\\HackForGood_6p\\images\\row_data\\Garbage classification\\test\\test2\n"
     ]
    }
   ],
   "source": [
    "test_path = r\"D:\\HackForGood\\HackForGood_6p\\images\\row_data\\Garbage classification\\test\\test1\\cardboard1.jpg\"\n",
    "test_dst_path =r\"D:\\HackForGood\\HackForGood_6p\\images\\row_data\\Garbage classification\\test\\test2\"\n",
    "file = \"cardboard1.jpg\"\n",
    "\n",
    "def move_file(src_path, dest_path):\n",
    "    print(src_path, dest_path)\n",
    "    try:\n",
    "        if not os.path.exists(dest_path):\n",
    "            os.mkdir(dest_path)\n",
    "        shutil.move(src_path, dest_path)\n",
    "        os.rename(, os.path.join(test_dst_path, \"test2.jpg\"))\n",
    "    except:\n",
    "        print(\"Move File failed\")        \n",
    "\n",
    "move_file(test_path, test_dst_path)"
   ]
  },
  {
   "cell_type": "code",
   "execution_count": 1,
   "metadata": {},
   "outputs": [],
   "source": [
    "PATH = \"D:\\HackForGood\\HackForGood_6p\\dataset\"\n",
    "folders = os.listdir(PATH)\n",
    "\n",
    "for folder in folders:\n",
    "    if folder != \"row_data\" and os.path.isdir(folder):\n",
    "        path = os.path.join(PATH, folder)\n",
    "        for i,file in enumerate(os.listdir(path)):\n",
    "            old_name = os.path.join(path, file)\n",
    "            new_name = os.path.join(path, f'{folder}{i+1}.jpg')\n",
    "            os.rename(old_name, new_name)\n"
   ]
  },
  {
   "cell_type": "code",
   "execution_count": null,
   "metadata": {},
   "outputs": [],
   "source": [
    "PATH = \"D:\\HackForGood\\HackForGood_6p\\dataset\"\n",
    "folders = os.listdir(PATH)\n",
    "\n",
    "for folder in folders:\n",
    "    path = os.path.join(PATH, folder)\n",
    "    for file in \n",
    "\n"
   ]
  }
 ],
 "metadata": {
  "kernelspec": {
   "display_name": "Python 3.10.5 64-bit",
   "language": "python",
   "name": "python3"
  },
  "language_info": {
   "codemirror_mode": {
    "name": "ipython",
    "version": 3
   },
   "file_extension": ".py",
   "mimetype": "text/x-python",
   "name": "python",
   "nbconvert_exporter": "python",
   "pygments_lexer": "ipython3",
   "version": "3.10.5"
  },
  "orig_nbformat": 4,
  "vscode": {
   "interpreter": {
    "hash": "1d2d095a1521ae803c9672f26e7f8c4aceb0fd2d489d84364745d860468f80ec"
   }
  }
 },
 "nbformat": 4,
 "nbformat_minor": 2
}
